{
 "cells": [
  {
   "cell_type": "code",
   "execution_count": 1,
   "metadata": {},
   "outputs": [],
   "source": [
    "import math\n",
    "from functools import reduce"
   ]
  },
  {
   "cell_type": "code",
   "execution_count": 5,
   "metadata": {},
   "outputs": [],
   "source": [
    "def vector_length(vector):\n",
    "    return math.sqrt(reduce(lambda acc, value: acc + math.pow(value, 2), vector, 0))"
   ]
  },
  {
   "cell_type": "code",
   "execution_count": 6,
   "metadata": {},
   "outputs": [],
   "source": [
    "def dot_product(vector_1, vector_2):\n",
    "    if (len(vector_1) != len(vector_2)):\n",
    "        raise Exception(\"Vectors need to be of the same length for dot product\")\n",
    "    dot_product = 0\n",
    "    # calculate dot product\n",
    "    return reduce(lambda acc, pair: acc + pair[0] * pair[1], zip(vector_1, vector_2), 0)\n"
   ]
  },
  {
   "cell_type": "code",
   "execution_count": 8,
   "metadata": {},
   "outputs": [
    {
     "name": "stdout",
     "output_type": "stream",
     "text": [
      "[3, 5]\n"
     ]
    }
   ],
   "source": [
    "doc1 = \"meeting ... management ... meeting ... management ... meeting ... management ... meeting ... meeting\"\n",
    "doc2 = \"meeting ... management ... meeting ... management ... meeting ... management\"\n",
    "\n",
    "vector = [0, 0]\n",
    "\n",
    "for word in doc1.split(\" \"):\n",
    "    if word == \"management\":\n",
    "        vector[0] += 1\n",
    "    if word == \"meeting\":\n",
    "        vector[1] += 1\n",
    "\n",
    "print(vector)\n"
   ]
  },
  {
   "cell_type": "code",
   "execution_count": null,
   "metadata": {},
   "outputs": [],
   "source": []
  },
  {
   "cell_type": "code",
   "execution_count": null,
   "metadata": {},
   "outputs": [],
   "source": []
  }
 ],
 "metadata": {
  "kernelspec": {
   "display_name": "Python 3",
   "language": "python",
   "name": "python3"
  },
  "language_info": {
   "codemirror_mode": {
    "name": "ipython",
    "version": 3
   },
   "file_extension": ".py",
   "mimetype": "text/x-python",
   "name": "python",
   "nbconvert_exporter": "python",
   "pygments_lexer": "ipython3",
   "version": "3.10.8"
  },
  "orig_nbformat": 4
 },
 "nbformat": 4,
 "nbformat_minor": 2
}
